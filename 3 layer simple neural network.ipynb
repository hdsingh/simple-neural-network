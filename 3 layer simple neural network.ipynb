{
 "cells": [
  {
   "cell_type": "code",
   "execution_count": 1,
   "metadata": {},
   "outputs": [],
   "source": [
    "import numpy as np"
   ]
  },
  {
   "cell_type": "code",
   "execution_count": 2,
   "metadata": {},
   "outputs": [],
   "source": [
    "def sigmoid(x):\n",
    "    return 1/(1+np.exp(-x))\n",
    "def sigmoid_diff(x):\n",
    "    return x*(1-x)"
   ]
  },
  {
   "cell_type": "code",
   "execution_count": 3,
   "metadata": {},
   "outputs": [],
   "source": [
    "x = np.array([\n",
    "    [0,0,1],\n",
    "    [0,1,1],\n",
    "    [1,0,1],\n",
    "    [1,1,1]  ])\n",
    "\n",
    "y = np.array([[0,0,1,1]]).T"
   ]
  },
  {
   "cell_type": "code",
   "execution_count": 4,
   "metadata": {},
   "outputs": [],
   "source": [
    "w1 = 2*np.random.random((3,4)) - 1\n",
    "w2 = 2*np.random.random((4,2)) - 1\n",
    "w3 = 2*np.random.random((2,1)) - 1"
   ]
  },
  {
   "cell_type": "code",
   "execution_count": 5,
   "metadata": {},
   "outputs": [
    {
     "name": "stdout",
     "output_type": "stream",
     "text": [
      "[[0.0052855 ]\n",
      " [0.00451979]\n",
      " [0.99507742]\n",
      " [0.99439624]]\n"
     ]
    }
   ],
   "source": [
    "for i in range(10000):\n",
    "    l0 = x\n",
    "    #forward propagation\n",
    "    l1 = sigmoid(np.dot(l0,w1))\n",
    "    l2 = sigmoid(np.dot(l1,w2))\n",
    "    l3 = sigmoid(np.dot(l2,w3))\n",
    "    \n",
    "    #finding errors and changes\n",
    "    l3_error = l3 - y\n",
    "    l3_delta = l3_error*sigmoid_diff(l3)\n",
    "    l2_error = l3_delta.dot(w3.T)\n",
    "    l2_delta = l2_error*sigmoid_diff(l2)\n",
    "    l1_error = l2_delta.dot(w2.T)\n",
    "    l1_delta = l1_error*sigmoid_diff(l1)\n",
    "    \n",
    "    #backpropagation\n",
    "    w3 -= np.dot(l2.T,l3_delta)\n",
    "    w2 -= np.dot(l1.T,l2_delta)\n",
    "    w1 -= np.dot(l0.T,l1_delta)\n",
    "print(l3)"
   ]
  },
  {
   "cell_type": "code",
   "execution_count": null,
   "metadata": {},
   "outputs": [],
   "source": []
  }
 ],
 "metadata": {
  "kernelspec": {
   "display_name": "Python 3",
   "language": "python",
   "name": "python3"
  },
  "language_info": {
   "codemirror_mode": {
    "name": "ipython",
    "version": 3
   },
   "file_extension": ".py",
   "mimetype": "text/x-python",
   "name": "python",
   "nbconvert_exporter": "python",
   "pygments_lexer": "ipython3",
   "version": "3.6.4"
  }
 },
 "nbformat": 4,
 "nbformat_minor": 2
}
